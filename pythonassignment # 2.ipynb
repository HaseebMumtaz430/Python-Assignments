{
 "cells": [
  {
   "cell_type": "code",
   "execution_count": 7,
   "metadata": {},
   "outputs": [
    {
     "name": "stdout",
     "output_type": "stream",
     "text": [
      "subject1 mark out of 100 = 80\n",
      "subject2 mark out of 100 = 80\n",
      "subject3 mark out of 100 = 70\n",
      "subject4 mark out of 100 = 60\n",
      "subject5 mark out of 100 = 70\n",
      "totalmark = 360\n",
      "percentage = 72.0\n",
      "Grade A\n"
     ]
    }
   ],
   "source": [
    "#Q1 write a program which takes 5 input from user for different subject's marks,total it and generate mark sheet using grades? \n",
    "subject1=int(input(\"subject1 mark out of 100 = \"))\n",
    "subject2=int(input(\"subject2 mark out of 100 = \"))\n",
    "subject3=int(input(\"subject3 mark out of 100 = \"))\n",
    "subject4=int(input(\"subject4 mark out of 100 = \"))\n",
    "subject5=int(input(\"subject5 mark out of 100 = \"))\n",
    "Totalmarks=subject1+subject2+subject3+subject4+subject5\n",
    "print(\"totalmark =\",Totalmarks)\n",
    "percentage = Totalmarks/500*100\n",
    "print(\"percentage =\",percentage)\n",
    "if percentage >= 80 and percentage <= 100:\n",
    "    print(\"Grade A+\")\n",
    "elif percentage >= 70 and percentage < 80 :\n",
    "    print(\"Grade A\")\n",
    "elif percentage >= 60 and percentage < 70:\n",
    "    print(\"Grade B\")\n",
    "elif percentage >= 50 and percentage < 60:\n",
    "    print(\"Grade C\")\n",
    "elif percentage >= 40 and percentage < 50:\n",
    "    print(\"Grade D\")\n",
    "elif percentage >= 30 and percentage < 40:\n",
    "    print(\"Grade E\")\n",
    "elif percentage >=  0 and percentage < 30:\n",
    "    print(\"YOUR ARE FAIL\")\n",
    "else :\n",
    "    print(\"your percentage is innappropiate\");"
   ]
  },
  {
   "cell_type": "code",
   "execution_count": 6,
   "metadata": {},
   "outputs": [
    {
     "name": "stdout",
     "output_type": "stream",
     "text": [
      "Enter the number  2\n",
      "2 is even number\n"
     ]
    }
   ],
   "source": [
    "#Q2 write a program which take input from user and identify that the given number is even or odd?\n",
    "n = int(input(\"Enter the number  \"))\n",
    "if n%2==0:\n",
    "    print( n,\"is even number\");\n",
    "else:\n",
    "    print( n,\"is odd number\");"
   ]
  },
  {
   "cell_type": "code",
   "execution_count": 8,
   "metadata": {},
   "outputs": [
    {
     "name": "stdout",
     "output_type": "stream",
     "text": [
      "7\n"
     ]
    }
   ],
   "source": [
    "#Q3 write a program which print the length of the list?\n",
    "list=[11,22,33,44,55,66,77]\n",
    "print(len(list));\n"
   ]
  },
  {
   "cell_type": "code",
   "execution_count": 11,
   "metadata": {},
   "outputs": [
    {
     "name": "stdout",
     "output_type": "stream",
     "text": [
      "sum of list = 308\n"
     ]
    }
   ],
   "source": [
    "#Q4 write a python program to sum all the numeric items in a list?\n",
    "list=[11,22,33,44,55,66,77]\n",
    "x=len(list)\n",
    "sum=0\n",
    "for i in range (x):\n",
    "    sum=sum+list[i]\n",
    "print(\"sum of list =\",sum)    \n",
    "\n"
   ]
  },
  {
   "cell_type": "code",
   "execution_count": 12,
   "metadata": {},
   "outputs": [
    {
     "name": "stdout",
     "output_type": "stream",
     "text": [
      "77\n"
     ]
    }
   ],
   "source": [
    "#Q5 write a python program to get the largest number from a numeric list?\n",
    "list=[11,22,33,44,55,66,77]\n",
    "print(max(list));"
   ]
  },
  {
   "cell_type": "code",
   "execution_count": 22,
   "metadata": {},
   "outputs": [
    {
     "name": "stdout",
     "output_type": "stream",
     "text": [
      "1\n",
      "1\n",
      "2\n",
      "3\n"
     ]
    }
   ],
   "source": [
    "#Q6 Take a list,say for example this one: a = [1,1,2,3,5,8,13,21,34,55,89] and write a program that print out all element of the list that are less than 5 ?\n",
    "list=[1,1,2,3,5,8,13,21,34,55,89]\n",
    "a=len(list)\n",
    "for i in range(a):\n",
    "    if list[i]<5:\n",
    "        print(list[i]);"
   ]
  },
  {
   "cell_type": "code",
   "execution_count": null,
   "metadata": {},
   "outputs": [],
   "source": []
  }
 ],
 "metadata": {
  "kernelspec": {
   "display_name": "Python 3",
   "language": "python",
   "name": "python3"
  },
  "language_info": {
   "codemirror_mode": {
    "name": "ipython",
    "version": 3
   },
   "file_extension": ".py",
   "mimetype": "text/x-python",
   "name": "python",
   "nbconvert_exporter": "python",
   "pygments_lexer": "ipython3",
   "version": "3.7.4"
  }
 },
 "nbformat": 4,
 "nbformat_minor": 2
}
